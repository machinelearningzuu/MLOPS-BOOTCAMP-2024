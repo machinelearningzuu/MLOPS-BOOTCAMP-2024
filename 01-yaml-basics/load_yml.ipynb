{
 "cells": [
  {
   "cell_type": "code",
   "execution_count": 4,
   "metadata": {},
   "outputs": [],
   "source": [
    "import yaml, pprint"
   ]
  },
  {
   "cell_type": "code",
   "execution_count": 2,
   "metadata": {},
   "outputs": [],
   "source": [
    "with open('sample.yaml') as f:\n",
    "    config = yaml.safe_load(f)"
   ]
  },
  {
   "cell_type": "code",
   "execution_count": 5,
   "metadata": {},
   "outputs": [
    {
     "name": "stdout",
     "output_type": "stream",
     "text": [
      "{'YAML': [{'Y': 'YAML'}, {'A': \"Ain't\"}, {'M': 'Markup'}, {'L': 'Language'}],\n",
      " 'category': ['AWS', 'DevOps', 'AWS Certification'],\n",
      " 'course_dev': ['murthy', 'kavya', 'nirnay'],\n",
      " 'detailed_description': 'This course has \\n'\n",
      "                         'been created with\\n'\n",
      "                         'the collaboration with\\n'\n",
      "                         'Industry Experts and\\n'\n",
      "                         'curated by In-house team to\\n'\n",
      "                         'give best learning experience',\n",
      " 'dev_details': [{'email': 'support@manifoldailearning.in',\n",
      "                  'name': 'murthy',\n",
      "                  'role': 'Author'},\n",
      "                 {'email': 'support@manifoldailearning.in',\n",
      "                  'name': 'kavya',\n",
      "                  'role': 'Co-Author'},\n",
      "                 {'email': 'support@manifoldailearning.in',\n",
      "                  'name': 'nirnay',\n",
      "                  'role': 'Editor'},\n",
      "                 {'email': 'support@manifoldailearning.in',\n",
      "                  'name': 'navishka',\n",
      "                  'role': 'Finance'}],\n",
      " 'is_public': True,\n",
      " 'my-course': 'AWS DevOps Professional Certification',\n",
      " 'pre_enroll': None,\n",
      " 'price': 299,\n",
      " 'release_date': datetime.date(2022, 1, 10),\n",
      " 'short_description': 'This is a course for  AWS DevOps Professional '\n",
      "                      'Certification\\n',\n",
      " 'version': 1.0}\n"
     ]
    }
   ],
   "source": [
    "pprint.pprint(config)"
   ]
  },
  {
   "cell_type": "code",
   "execution_count": null,
   "metadata": {},
   "outputs": [],
   "source": []
  }
 ],
 "metadata": {
  "kernelspec": {
   "display_name": "Python 3",
   "language": "python",
   "name": "python3"
  },
  "language_info": {
   "codemirror_mode": {
    "name": "ipython",
    "version": 3
   },
   "file_extension": ".py",
   "mimetype": "text/x-python",
   "name": "python",
   "nbconvert_exporter": "python",
   "pygments_lexer": "ipython3",
   "version": "3.10.13"
  }
 },
 "nbformat": 4,
 "nbformat_minor": 2
}
